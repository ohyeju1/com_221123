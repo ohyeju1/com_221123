{
  "nbformat": 4,
  "nbformat_minor": 0,
  "metadata": {
    "colab": {
      "provenance": [],
      "authorship_tag": "ABX9TyOI9SaVR5ybuYPu54rlOUBY",
      "include_colab_link": true
    },
    "kernelspec": {
      "name": "python3",
      "display_name": "Python 3"
    },
    "language_info": {
      "name": "python"
    }
  },
  "cells": [
    {
      "cell_type": "markdown",
      "metadata": {
        "id": "view-in-github",
        "colab_type": "text"
      },
      "source": [
        "<a href=\"https://colab.research.google.com/github/ohyeju1/com_221123/blob/main/com_22201_221123.ipynb\" target=\"_parent\"><img src=\"https://colab.research.google.com/assets/colab-badge.svg\" alt=\"Open In Colab\"/></a>"
      ]
    },
    {
      "cell_type": "code",
      "source": [
        "a=10\n",
        "b=6000\n",
        "c=a*b\n",
        "print(c)\n"
      ],
      "metadata": {
        "colab": {
          "base_uri": "https://localhost:8080/"
        },
        "id": "0e3aYCA78tsG",
        "outputId": "be55262f-a292-4d07-d15c-c379d24a1f3d"
      },
      "execution_count": 3,
      "outputs": [
        {
          "output_type": "stream",
          "name": "stdout",
          "text": [
            "60000\n"
          ]
        }
      ]
    },
    {
      "cell_type": "code",
      "source": [
        "total=0\n",
        "counter=1\n",
        "grade=0\n",
        "while counter<=10:\n",
        "  int(input(\"Enter grade:\"))\n",
        "  total=grade+total\n",
        "  counter=counter+1\n",
        "average=total/10\n",
        "print(average)"
      ],
      "metadata": {
        "colab": {
          "base_uri": "https://localhost:8080/"
        },
        "id": "6h_9CEND9Kt_",
        "outputId": "02880e27-7b6f-47cf-fede-d8be604b8e1c"
      },
      "execution_count": 10,
      "outputs": [
        {
          "output_type": "stream",
          "name": "stdout",
          "text": [
            "Enter grade:0\n",
            "Enter grade:0\n",
            "Enter grade:0\n",
            "Enter grade:0\n",
            "Enter grade:0\n",
            "Enter grade:0\n",
            "Enter grade:0\n",
            "Enter grade:0\n",
            "Enter grade:0\n",
            "Enter grade:0\n",
            "0.0\n"
          ]
        }
      ]
    },
    {
      "cell_type": "code",
      "source": [
        "won=100000\n",
        "usd=won*1130\n",
        "print(usd)"
      ],
      "metadata": {
        "colab": {
          "base_uri": "https://localhost:8080/"
        },
        "id": "9C2Ghj149oyH",
        "outputId": "37b41952-dd5c-40e0-ab0b-208ceaba918a"
      },
      "execution_count": 5,
      "outputs": [
        {
          "output_type": "stream",
          "name": "stdout",
          "text": [
            "113000000\n"
          ]
        }
      ]
    },
    {
      "cell_type": "code",
      "source": [
        "fahrenheit=100\n",
        "celsius=fahrenheit-32\n",
        "celsius=celsius*5\n",
        "celsius=celsius/9\n",
        "print(celsius)"
      ],
      "metadata": {
        "colab": {
          "base_uri": "https://localhost:8080/"
        },
        "id": "QjJGPbuy9ytY",
        "outputId": "3ac1770a-80a7-497f-ea25-2ca5072aadc5"
      },
      "execution_count": 6,
      "outputs": [
        {
          "output_type": "stream",
          "name": "stdout",
          "text": [
            "37.77777777777778\n"
          ]
        }
      ]
    },
    {
      "cell_type": "code",
      "source": [
        "price=int(input(\"상품의 가격을 입력하시오\"))\n",
        "vat=price*0.1\n",
        "print(vat)"
      ],
      "metadata": {
        "colab": {
          "base_uri": "https://localhost:8080/"
        },
        "id": "7834JQlh-f-3",
        "outputId": "d30a879b-bb45-4232-9d40-180d36b4087c"
      },
      "execution_count": 7,
      "outputs": [
        {
          "output_type": "stream",
          "name": "stdout",
          "text": [
            "상품의 가격을 입력하시오10000\n",
            "1000.0\n"
          ]
        }
      ]
    },
    {
      "cell_type": "code",
      "source": [
        "print(\"3개의 값을 입력하시오\")\n",
        "x=int(input(\"Enter the x:\"))\n",
        "y=int(input(\"Enter the y:\"))\n",
        "z=int(input(\"Enter the z:\"))\n",
        "x=x+1\n",
        "y=y+1\n",
        "z=z+1\n",
        "print(\"변경된 값:\",x,y,z)"
      ],
      "metadata": {
        "colab": {
          "base_uri": "https://localhost:8080/"
        },
        "id": "SCVm94s8_IkV",
        "outputId": "9518d384-03a5-4dce-e8cf-a823933dc0ca"
      },
      "execution_count": 11,
      "outputs": [
        {
          "output_type": "stream",
          "name": "stdout",
          "text": [
            "3개의 값을 입력하시오\n",
            "Enter the x:3\n",
            "Enter the y:4\n",
            "Enter the z:5\n",
            "변경된 값: 4 5 6\n"
          ]
        }
      ]
    },
    {
      "cell_type": "code",
      "source": [
        "pay_rate=8750\n",
        "hours_worked=int(input(\"일을 한 전체 시간입력하세요!:\"))\n",
        "monthly_pay=hours_worked*pay_rate\n",
        "print(usd)"
      ],
      "metadata": {
        "colab": {
          "base_uri": "https://localhost:8080/"
        },
        "id": "rA5rHPqW_ngn",
        "outputId": "975b5a5b-824e-4f81-8d01-34ef8954a5d1"
      },
      "execution_count": 12,
      "outputs": [
        {
          "output_type": "stream",
          "name": "stdout",
          "text": [
            "일을 한 전체 시간입력하세요!:12\n",
            "113000000\n"
          ]
        }
      ]
    },
    {
      "cell_type": "code",
      "source": [
        "exchange_rate=int(input(\"현재 환율입력:\"))\n",
        "won=100000\n",
        "usd=won*exchange_rate\n",
        "print(usd)"
      ],
      "metadata": {
        "colab": {
          "base_uri": "https://localhost:8080/"
        },
        "id": "dsR1Nems__X6",
        "outputId": "f7d09bfb-27a7-4864-89f7-dccdfc2248dc"
      },
      "execution_count": 13,
      "outputs": [
        {
          "output_type": "stream",
          "name": "stdout",
          "text": [
            "현재 환율입력:100\n",
            "10000000\n"
          ]
        }
      ]
    },
    {
      "cell_type": "code",
      "source": [
        "x=0\n",
        "y=0\n",
        "x=int(input(\"정수x를 입력하시오:\"))\n",
        "y=int(input(\"정수y를 입력하시오:\"))\n",
        "sum=x+y\n",
        "print(sum)"
      ],
      "metadata": {
        "colab": {
          "base_uri": "https://localhost:8080/"
        },
        "id": "Hk5Con82ASE5",
        "outputId": "46015a9e-e9ba-4613-b044-7706a2713b00"
      },
      "execution_count": 16,
      "outputs": [
        {
          "output_type": "stream",
          "name": "stdout",
          "text": [
            "정수x를 입력하시오:1\n",
            "정수y를 입력하시오:2\n",
            "3\n"
          ]
        }
      ]
    },
    {
      "cell_type": "code",
      "source": [
        "age=int(input(\"현재 나이를 입력하시오.:\"))\n",
        "age=age+10\n",
        "print(\"10년후면\",age,\"세가 되시는 군요\")"
      ],
      "metadata": {
        "colab": {
          "base_uri": "https://localhost:8080/"
        },
        "id": "2eK1TxnHBd33",
        "outputId": "b0807824-ea60-4e48-8f9d-fc92ccd6b65a"
      },
      "execution_count": 17,
      "outputs": [
        {
          "output_type": "stream",
          "name": "stdout",
          "text": [
            "현재 나이를 입력하시오.:20\n",
            "10년후면 30 세가 되시는 군요\n"
          ]
        }
      ]
    },
    {
      "cell_type": "code",
      "source": [
        "print(\"########################\")\n",
        "print(\"#배송료 계산 프로그램#\")\n",
        "print(\"########################\")\n",
        "price=int(input(\"상품의 가격을 입력하세요:\"))\n",
        "if price>2000:\n",
        "  shipping_cost=0\n",
        "else:\n",
        "  shipping_cost=3000\n",
        "print(shipping_cost)"
      ],
      "metadata": {
        "colab": {
          "base_uri": "https://localhost:8080/"
        },
        "id": "-6XnRBVOByf2",
        "outputId": "23bb67e2-acc0-4459-9feb-696be3d2dbbe"
      },
      "execution_count": 18,
      "outputs": [
        {
          "output_type": "stream",
          "name": "stdout",
          "text": [
            "########################\n",
            "#배송료 계산 프로그램#\n",
            "########################\n",
            "상품의 가격을 입력하세요:1000\n",
            "3000\n"
          ]
        }
      ]
    }
  ]
}